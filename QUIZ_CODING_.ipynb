{
  "cells": [
    {
      "cell_type": "markdown",
      "metadata": {
        "id": "view-in-github",
        "colab_type": "text"
      },
      "source": [
        "<a href=\"https://colab.research.google.com/github/Preethi-485/Quiz/blob/main/QUIZ_CODING_.ipynb\" target=\"_parent\"><img src=\"https://colab.research.google.com/assets/colab-badge.svg\" alt=\"Open In Colab\"/></a>"
      ]
    },
    {
      "cell_type": "code",
      "execution_count": null,
      "metadata": {
        "colab": {
          "background_save": true
        },
        "id": "q6yGUN3gHHi_"
      },
      "outputs": [],
      "source": [
        "print(\"Welcome to my computer quiz!\")\n",
        "playing=input(\"Do you want to play? \")\n",
        "print(\"\\n\")\n",
        "if (playing.upper()!=\"YES\"):\n",
        "  print(\"Thank you!!\\nHave a nice day!!\")\n",
        "else:\n",
        "  print(\"Let's get started.......Loading your game.......\")\n",
        "  score=0\n",
        "  print(\"\\n\")\n",
        "\n",
        "  answer_1 = input(\"What does CPU stand for? \").upper()\n",
        "  print(\"\\n\")\n",
        "  if (answer_1==\"CENTRAL PROCESSING UNIT\"):\n",
        "    print(\"Wow!! You got it right!! :)\\nHere's your next question!!\")\n",
        "    print(\"\\n\")\n",
        "    score=score+1\n",
        "  else:\n",
        "    print(\"Oh no!! You guessed it wrong!!\\nStill you have four more questions to go!!\\nPlease proceed...... \")\n",
        "  print(\"\\n\")\n",
        "    \n",
        "\n",
        "  answer_2 = input(\"What does GPU stand for? \").upper()\n",
        "  print(\"\\n\")\n",
        "  if (answer_2==\"GRAPHICS PROCESSING UNIT\"):\n",
        "    print(\"Wow!! You got it right!! :)\\nHere's your next question!!\")\n",
        "    print(\"\")\n",
        "    score=score+1\n",
        "  else:\n",
        "    print(\"Oh no!! You guessed it wrong!! \")\n",
        "    print(\"Still you have three more questions to go!!\")\n",
        "    print(\"Please proceed......\")\n",
        "\n",
        "  answer_3 = input(\"What does RAM stand for? \").upper()\n",
        "  if (answer_3==\"RANDOM ACCESS MEMORY\"):\n",
        "    print(\"Wow!! You got it right!! :)\")\n",
        "    print(\"Here's your next question!!\")\n",
        "    score=score+1\n",
        "  else:\n",
        "    print(\"Oh no!! You guessed it wrong!! \")\n",
        "    print(\"Still you have two more questions to go!!\")\n",
        "    print(\"Please proceed......\")\n",
        "\n",
        "  answer_4 = input(\"What does CAD stand for? \").upper()\n",
        "  if (answer_4==\"COMPUTER AIDED DESIGN\"):\n",
        "    print(\"Wow!! You got it right!! :)\")\n",
        "    print(\"Here's your next question!!\")\n",
        "    score=score+1\n",
        "  else:\n",
        "    print(\"Oh no!! You guessed it wrong!! \")\n",
        "    print(\"Still you have one more question to go!!\")\n",
        "    print(\"Please proceed......\")\n",
        "\n",
        "  answer_5 = input(\"What does CD stand for? \").upper()\n",
        "  if (answer_5==\"COMPACT DISK\"):\n",
        "    print(\"Wow!! You got it right!! :)\")\n",
        "    score=score+1\n",
        "  else:\n",
        "    print(\"Oh no!! You guessed it wrong!! \")\n",
        "\n",
        "  if(score!=1):\n",
        "    print(\"You got \" + str(score) + \" questions correct :) \")\n",
        "  else:\n",
        "    print(\"You got \" + str(score) + \" question correct :) \")\n",
        "  print(\"You played the game very well!!\\nGame end!!\\nSee you again!!\")\n",
        "  \n",
        "  \n",
        "\n",
        "\n",
        "   "
      ]
    }
  ],
  "metadata": {
    "colab": {
      "collapsed_sections": [],
      "name": "QUIZ CODING.",
      "provenance": [],
      "authorship_tag": "ABX9TyOP7FTxOVVgWSoK1K5qUr7h",
      "include_colab_link": true
    },
    "kernelspec": {
      "display_name": "Python 3",
      "name": "python3"
    },
    "language_info": {
      "name": "python"
    }
  },
  "nbformat": 4,
  "nbformat_minor": 0
}
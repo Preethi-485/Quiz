{
  "nbformat": 4,
  "nbformat_minor": 0,
  "metadata": {
    "colab": {
      "name": "Simple Calculator.ipynb",
      "provenance": [],
      "authorship_tag": "ABX9TyNyUsfJeQmz0E9MX2MLvNQT",
      "include_colab_link": true
    },
    "kernelspec": {
      "name": "python3",
      "display_name": "Python 3"
    },
    "language_info": {
      "name": "python"
    }
  },
  "cells": [
    {
      "cell_type": "markdown",
      "metadata": {
        "id": "view-in-github",
        "colab_type": "text"
      },
      "source": [
        "<a href=\"https://colab.research.google.com/github/Preethi-485/Quiz/blob/main/Simple_Calculator.ipynb\" target=\"_parent\"><img src=\"https://colab.research.google.com/assets/colab-badge.svg\" alt=\"Open In Colab\"/></a>"
      ]
    },
    {
      "cell_type": "code",
      "metadata": {
        "id": "n7duy7VrLHsd"
      },
      "source": [
        "print(\"WELCOME TO MY COMPUTER CALCULATOR!!\")\n",
        "print(\"\\n\")\n",
        "itr=1\n",
        "choice=1\n",
        "\n",
        "while(choice==1 and itr==1):\n",
        "  firstNumber=float(input(\"Enter the first number : \"))\n",
        "  print(\"\\n\")\n",
        "  secondNumber=float(input(\"Enter the second number : \"))\n",
        "  print(\"\\n\")\n",
        "  print(\"Choose the following numbers for the corresponding operation to be performed : \\n1 for Addition\\n2 for Subtraction\\n3 for Multiplication\\n4 for Division\")\n",
        "  print(\"\\n\")\n",
        "  operation=int(input(\"Enter the operation value : \"))\n",
        "  if (operation==1):\n",
        "    output=firstNumber+secondNumber\n",
        "  elif (operation==2):\n",
        "    output=firstNumber-secondNumber\n",
        "  elif (operation==3):\n",
        "    output=firstNumber*secondNumber\n",
        "  elif (operation==4):\n",
        "    output=firstNumber/secondNumber\n",
        "  else:\n",
        "    print(\"Enter a valid operation value\")\n",
        "  print(\"\\n\") \n",
        "  print(\"The output is\",output)\n",
        "  print(\"\\n\")\n",
        "  print(\"Do you want to continue?\\n1 for yes\\n2 for no\")\n",
        "  print(\"\\n\")\n",
        "  \n",
        "  choice=int(input(\"Enter your choice : \"))\n",
        "  print(\"\\n\")\n",
        "  if(choice==1):\n",
        "    print(\"Proceed\")\n",
        "    print(\"\\n\")   \n",
        "  else:\n",
        "    print(\"Thank you\")\n",
        "\n"
      ],
      "execution_count": null,
      "outputs": []
    }
  ]
}